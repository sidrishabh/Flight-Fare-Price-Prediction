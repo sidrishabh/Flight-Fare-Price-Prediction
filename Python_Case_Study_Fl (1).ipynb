{
 "cells": [
  {
   "cell_type": "code",
   "execution_count": 1,
   "metadata": {},
   "outputs": [],
   "source": [
    "import numpy as np\n",
    "import pandas as pd\n",
    "import matplotlib.pyplot as plt\n",
    "import seaborn as sns\n",
    "import warnings\n",
    "warnings.filterwarnings('ignore')\n",
    "sns.set()"
   ]
  },
  {
   "cell_type": "markdown",
   "metadata": {},
   "source": [
    "# Importing dataset"
   ]
  },
  {
   "cell_type": "code",
   "execution_count": 2,
   "metadata": {},
   "outputs": [],
   "source": [
    "df = pd.read_excel(\"Python_Flight_Fare_d.xlsx\")"
   ]
  },
  {
   "cell_type": "markdown",
   "metadata": {},
   "source": [
    "# show the first five rows"
   ]
  },
  {
   "cell_type": "code",
   "execution_count": 3,
   "metadata": {},
   "outputs": [
    {
     "data": {
      "text/html": [
       "<div>\n",
       "<style scoped>\n",
       "    .dataframe tbody tr th:only-of-type {\n",
       "        vertical-align: middle;\n",
       "    }\n",
       "\n",
       "    .dataframe tbody tr th {\n",
       "        vertical-align: top;\n",
       "    }\n",
       "\n",
       "    .dataframe thead th {\n",
       "        text-align: right;\n",
       "    }\n",
       "</style>\n",
       "<table border=\"1\" class=\"dataframe\">\n",
       "  <thead>\n",
       "    <tr style=\"text-align: right;\">\n",
       "      <th></th>\n",
       "      <th>Airline</th>\n",
       "      <th>Date_of_Journey</th>\n",
       "      <th>Source</th>\n",
       "      <th>Destination</th>\n",
       "      <th>Route</th>\n",
       "      <th>Dep_Time</th>\n",
       "      <th>Arrival_Time</th>\n",
       "      <th>Duration</th>\n",
       "      <th>Total_Stops</th>\n",
       "      <th>Additional_Info</th>\n",
       "      <th>Price</th>\n",
       "    </tr>\n",
       "  </thead>\n",
       "  <tbody>\n",
       "    <tr>\n",
       "      <th>0</th>\n",
       "      <td>IndiGo</td>\n",
       "      <td>24/03/2019</td>\n",
       "      <td>Banglore</td>\n",
       "      <td>New Delhi</td>\n",
       "      <td>BLR → DEL</td>\n",
       "      <td>22:20</td>\n",
       "      <td>01:10 22 Mar</td>\n",
       "      <td>2h 50m</td>\n",
       "      <td>non-stop</td>\n",
       "      <td>No info</td>\n",
       "      <td>3897</td>\n",
       "    </tr>\n",
       "    <tr>\n",
       "      <th>1</th>\n",
       "      <td>Air India</td>\n",
       "      <td>1/05/2019</td>\n",
       "      <td>Kolkata</td>\n",
       "      <td>Banglore</td>\n",
       "      <td>CCU → IXR → BBI → BLR</td>\n",
       "      <td>05:50</td>\n",
       "      <td>13:15</td>\n",
       "      <td>7h 25m</td>\n",
       "      <td>2 stops</td>\n",
       "      <td>No info</td>\n",
       "      <td>7662</td>\n",
       "    </tr>\n",
       "    <tr>\n",
       "      <th>2</th>\n",
       "      <td>Jet Airways</td>\n",
       "      <td>9/06/2019</td>\n",
       "      <td>Delhi</td>\n",
       "      <td>Cochin</td>\n",
       "      <td>DEL → LKO → BOM → COK</td>\n",
       "      <td>09:25</td>\n",
       "      <td>04:25 10 Jun</td>\n",
       "      <td>19h</td>\n",
       "      <td>2 stops</td>\n",
       "      <td>No info</td>\n",
       "      <td>13882</td>\n",
       "    </tr>\n",
       "    <tr>\n",
       "      <th>3</th>\n",
       "      <td>IndiGo</td>\n",
       "      <td>12/05/2019</td>\n",
       "      <td>Kolkata</td>\n",
       "      <td>Banglore</td>\n",
       "      <td>CCU → NAG → BLR</td>\n",
       "      <td>18:05</td>\n",
       "      <td>23:30</td>\n",
       "      <td>5h 25m</td>\n",
       "      <td>1 stop</td>\n",
       "      <td>No info</td>\n",
       "      <td>6218</td>\n",
       "    </tr>\n",
       "    <tr>\n",
       "      <th>4</th>\n",
       "      <td>IndiGo</td>\n",
       "      <td>01/03/2019</td>\n",
       "      <td>Banglore</td>\n",
       "      <td>New Delhi</td>\n",
       "      <td>BLR → NAG → DEL</td>\n",
       "      <td>16:50</td>\n",
       "      <td>21:35</td>\n",
       "      <td>4h 45m</td>\n",
       "      <td>1 stop</td>\n",
       "      <td>No info</td>\n",
       "      <td>13302</td>\n",
       "    </tr>\n",
       "  </tbody>\n",
       "</table>\n",
       "</div>"
      ],
      "text/plain": [
       "       Airline Date_of_Journey    Source Destination                  Route  \\\n",
       "0       IndiGo      24/03/2019  Banglore   New Delhi              BLR → DEL   \n",
       "1    Air India       1/05/2019   Kolkata    Banglore  CCU → IXR → BBI → BLR   \n",
       "2  Jet Airways       9/06/2019     Delhi      Cochin  DEL → LKO → BOM → COK   \n",
       "3       IndiGo      12/05/2019   Kolkata    Banglore        CCU → NAG → BLR   \n",
       "4       IndiGo      01/03/2019  Banglore   New Delhi        BLR → NAG → DEL   \n",
       "\n",
       "  Dep_Time  Arrival_Time Duration Total_Stops Additional_Info  Price  \n",
       "0    22:20  01:10 22 Mar   2h 50m    non-stop         No info   3897  \n",
       "1    05:50         13:15   7h 25m     2 stops         No info   7662  \n",
       "2    09:25  04:25 10 Jun      19h     2 stops         No info  13882  \n",
       "3    18:05         23:30   5h 25m      1 stop         No info   6218  \n",
       "4    16:50         21:35   4h 45m      1 stop         No info  13302  "
      ]
     },
     "execution_count": 3,
     "metadata": {},
     "output_type": "execute_result"
    }
   ],
   "source": [
    "df.head()"
   ]
  },
  {
   "cell_type": "markdown",
   "metadata": {},
   "source": [
    "# Shape of data"
   ]
  },
  {
   "cell_type": "code",
   "execution_count": 4,
   "metadata": {},
   "outputs": [
    {
     "data": {
      "text/plain": [
       "(10683, 11)"
      ]
     },
     "execution_count": 4,
     "metadata": {},
     "output_type": "execute_result"
    }
   ],
   "source": [
    "df.shape"
   ]
  },
  {
   "cell_type": "markdown",
   "metadata": {},
   "source": [
    "# Basic Statistics"
   ]
  },
  {
   "cell_type": "code",
   "execution_count": 5,
   "metadata": {},
   "outputs": [
    {
     "data": {
      "text/html": [
       "<div>\n",
       "<style scoped>\n",
       "    .dataframe tbody tr th:only-of-type {\n",
       "        vertical-align: middle;\n",
       "    }\n",
       "\n",
       "    .dataframe tbody tr th {\n",
       "        vertical-align: top;\n",
       "    }\n",
       "\n",
       "    .dataframe thead th {\n",
       "        text-align: right;\n",
       "    }\n",
       "</style>\n",
       "<table border=\"1\" class=\"dataframe\">\n",
       "  <thead>\n",
       "    <tr style=\"text-align: right;\">\n",
       "      <th></th>\n",
       "      <th>Price</th>\n",
       "    </tr>\n",
       "  </thead>\n",
       "  <tbody>\n",
       "    <tr>\n",
       "      <th>count</th>\n",
       "      <td>10683.000000</td>\n",
       "    </tr>\n",
       "    <tr>\n",
       "      <th>mean</th>\n",
       "      <td>9087.064121</td>\n",
       "    </tr>\n",
       "    <tr>\n",
       "      <th>std</th>\n",
       "      <td>4611.359167</td>\n",
       "    </tr>\n",
       "    <tr>\n",
       "      <th>min</th>\n",
       "      <td>1759.000000</td>\n",
       "    </tr>\n",
       "    <tr>\n",
       "      <th>25%</th>\n",
       "      <td>5277.000000</td>\n",
       "    </tr>\n",
       "    <tr>\n",
       "      <th>50%</th>\n",
       "      <td>8372.000000</td>\n",
       "    </tr>\n",
       "    <tr>\n",
       "      <th>75%</th>\n",
       "      <td>12373.000000</td>\n",
       "    </tr>\n",
       "    <tr>\n",
       "      <th>max</th>\n",
       "      <td>79512.000000</td>\n",
       "    </tr>\n",
       "  </tbody>\n",
       "</table>\n",
       "</div>"
      ],
      "text/plain": [
       "              Price\n",
       "count  10683.000000\n",
       "mean    9087.064121\n",
       "std     4611.359167\n",
       "min     1759.000000\n",
       "25%     5277.000000\n",
       "50%     8372.000000\n",
       "75%    12373.000000\n",
       "max    79512.000000"
      ]
     },
     "execution_count": 5,
     "metadata": {},
     "output_type": "execute_result"
    }
   ],
   "source": [
    "df.describe()"
   ]
  },
  {
   "cell_type": "markdown",
   "metadata": {},
   "source": [
    "# check the count of null values in dataset column"
   ]
  },
  {
   "cell_type": "code",
   "execution_count": 6,
   "metadata": {
    "scrolled": true
   },
   "outputs": [
    {
     "data": {
      "text/plain": [
       "Airline            0\n",
       "Date_of_Journey    0\n",
       "Source             0\n",
       "Destination        0\n",
       "Route              1\n",
       "Dep_Time           0\n",
       "Arrival_Time       0\n",
       "Duration           0\n",
       "Total_Stops        1\n",
       "Additional_Info    0\n",
       "Price              0\n",
       "dtype: int64"
      ]
     },
     "execution_count": 6,
     "metadata": {},
     "output_type": "execute_result"
    }
   ],
   "source": [
    "df.isnull().sum()"
   ]
  },
  {
   "cell_type": "markdown",
   "metadata": {},
   "source": [
    "# Drop Null Values"
   ]
  },
  {
   "cell_type": "code",
   "execution_count": 7,
   "metadata": {},
   "outputs": [],
   "source": [
    "df.dropna(inplace = True)"
   ]
  },
  {
   "cell_type": "markdown",
   "metadata": {},
   "source": [
    "# Chech basic information of dataset"
   ]
  },
  {
   "cell_type": "code",
   "execution_count": 8,
   "metadata": {
    "scrolled": true
   },
   "outputs": [
    {
     "name": "stdout",
     "output_type": "stream",
     "text": [
      "<class 'pandas.core.frame.DataFrame'>\n",
      "Int64Index: 10682 entries, 0 to 10682\n",
      "Data columns (total 11 columns):\n",
      " #   Column           Non-Null Count  Dtype \n",
      "---  ------           --------------  ----- \n",
      " 0   Airline          10682 non-null  object\n",
      " 1   Date_of_Journey  10682 non-null  object\n",
      " 2   Source           10682 non-null  object\n",
      " 3   Destination      10682 non-null  object\n",
      " 4   Route            10682 non-null  object\n",
      " 5   Dep_Time         10682 non-null  object\n",
      " 6   Arrival_Time     10682 non-null  object\n",
      " 7   Duration         10682 non-null  object\n",
      " 8   Total_Stops      10682 non-null  object\n",
      " 9   Additional_Info  10682 non-null  object\n",
      " 10  Price            10682 non-null  int64 \n",
      "dtypes: int64(1), object(10)\n",
      "memory usage: 1001.4+ KB\n"
     ]
    }
   ],
   "source": [
    "df.info()"
   ]
  },
  {
   "cell_type": "code",
   "execution_count": 9,
   "metadata": {},
   "outputs": [
    {
     "data": {
      "image/png": "[encoded data removed]",
      "text/plain": [
       "<Figure size 1080x576 with 1 Axes>"
      ]
     },
     "metadata": {},
     "output_type": "display_data"
    }
   ],
   "source": [
    "plt.figure(figsize=(15,8))\n",
    "sns.barplot(x='Airline',y='Price',data=df)\n",
    "plt.xticks(rotation=90)\n",
    "plt.show()"
   ]
  },
  {
   "cell_type": "markdown",
   "metadata": {},
   "source": [
    "# LabelEncoding for Total_Stops"
   ]
  },
  {
   "cell_type": "code",
   "execution_count": 10,
   "metadata": {},
   "outputs": [],
   "source": [
    "df['Total_Stops']=df['Total_Stops'].map({'non-stop':0,'1 stop': 1,'2 stops':2,'3 stops':3,'4 stops': 4})"
   ]
  },
  {
   "cell_type": "markdown",
   "metadata": {},
   "source": [
    "# Extract Day and Month"
   ]
  },
  {
   "cell_type": "code",
   "execution_count": 11,
   "metadata": {},
   "outputs": [],
   "source": [
    "df[\"Journey_day\"] = pd.to_datetime(df.Date_of_Journey, format=\"%d/%m/%Y\").dt.day"
   ]
  },
  {
   "cell_type": "code",
   "execution_count": 12,
   "metadata": {},
   "outputs": [],
   "source": [
    "df[\"Journey_month\"] = pd.to_datetime(df[\"Date_of_Journey\"], format = \"%d/%m/%Y\").dt.month"
   ]
  },
  {
   "cell_type": "code",
   "execution_count": 13,
   "metadata": {},
   "outputs": [],
   "source": [
    "df.drop([\"Date_of_Journey\"], axis = 1, inplace = True)"
   ]
  },
  {
   "cell_type": "code",
   "execution_count": 14,
   "metadata": {},
   "outputs": [
    {
     "data": {
      "text/html": [
       "<div>\n",
       "<style scoped>\n",
       "    .dataframe tbody tr th:only-of-type {\n",
       "        vertical-align: middle;\n",
       "    }\n",
       "\n",
       "    .dataframe tbody tr th {\n",
       "        vertical-align: top;\n",
       "    }\n",
       "\n",
       "    .dataframe thead th {\n",
       "        text-align: right;\n",
       "    }\n",
       "</style>\n",
       "<table border=\"1\" class=\"dataframe\">\n",
       "  <thead>\n",
       "    <tr style=\"text-align: right;\">\n",
       "      <th></th>\n",
       "      <th>Airline</th>\n",
       "      <th>Source</th>\n",
       "      <th>Destination</th>\n",
       "      <th>Route</th>\n",
       "      <th>Dep_Time</th>\n",
       "      <th>Arrival_Time</th>\n",
       "      <th>Duration</th>\n",
       "      <th>Total_Stops</th>\n",
       "      <th>Additional_Info</th>\n",
       "      <th>Price</th>\n",
       "      <th>Journey_day</th>\n",
       "      <th>Journey_month</th>\n",
       "    </tr>\n",
       "  </thead>\n",
       "  <tbody>\n",
       "    <tr>\n",
       "      <th>0</th>\n",
       "      <td>IndiGo</td>\n",
       "      <td>Banglore</td>\n",
       "      <td>New Delhi</td>\n",
       "      <td>BLR → DEL</td>\n",
       "      <td>22:20</td>\n",
       "      <td>01:10 22 Mar</td>\n",
       "      <td>2h 50m</td>\n",
       "      <td>0</td>\n",
       "      <td>No info</td>\n",
       "      <td>3897</td>\n",
       "      <td>24</td>\n",
       "      <td>3</td>\n",
       "    </tr>\n",
       "    <tr>\n",
       "      <th>1</th>\n",
       "      <td>Air India</td>\n",
       "      <td>Kolkata</td>\n",
       "      <td>Banglore</td>\n",
       "      <td>CCU → IXR → BBI → BLR</td>\n",
       "      <td>05:50</td>\n",
       "      <td>13:15</td>\n",
       "      <td>7h 25m</td>\n",
       "      <td>2</td>\n",
       "      <td>No info</td>\n",
       "      <td>7662</td>\n",
       "      <td>1</td>\n",
       "      <td>5</td>\n",
       "    </tr>\n",
       "  </tbody>\n",
       "</table>\n",
       "</div>"
      ],
      "text/plain": [
       "     Airline    Source Destination                  Route Dep_Time  \\\n",
       "0     IndiGo  Banglore   New Delhi              BLR → DEL    22:20   \n",
       "1  Air India   Kolkata    Banglore  CCU → IXR → BBI → BLR    05:50   \n",
       "\n",
       "   Arrival_Time Duration  Total_Stops Additional_Info  Price  Journey_day  \\\n",
       "0  01:10 22 Mar   2h 50m            0         No info   3897           24   \n",
       "1         13:15   7h 25m            2         No info   7662            1   \n",
       "\n",
       "   Journey_month  \n",
       "0              3  \n",
       "1              5  "
      ]
     },
     "execution_count": 14,
     "metadata": {},
     "output_type": "execute_result"
    }
   ],
   "source": [
    "df.head(2)"
   ]
  },
  {
   "cell_type": "code",
   "execution_count": 15,
   "metadata": {},
   "outputs": [],
   "source": [
    "df[\"Dep_hour\"] = pd.to_datetime(df[\"Dep_Time\"]).dt.hour\n",
    "df[\"Dep_min\"] = pd.to_datetime(df[\"Dep_Time\"]).dt.minute\n",
    "df.drop([\"Dep_Time\"], axis = 1, inplace = True)"
   ]
  },
  {
   "cell_type": "code",
   "execution_count": 16,
   "metadata": {},
   "outputs": [
    {
     "data": {
      "text/html": [
       "<div>\n",
       "<style scoped>\n",
       "    .dataframe tbody tr th:only-of-type {\n",
       "        vertical-align: middle;\n",
       "    }\n",
       "\n",
       "    .dataframe tbody tr th {\n",
       "        vertical-align: top;\n",
       "    }\n",
       "\n",
       "    .dataframe thead th {\n",
       "        text-align: right;\n",
       "    }\n",
       "</style>\n",
       "<table border=\"1\" class=\"dataframe\">\n",
       "  <thead>\n",
       "    <tr style=\"text-align: right;\">\n",
       "      <th></th>\n",
       "      <th>Airline</th>\n",
       "      <th>Source</th>\n",
       "      <th>Destination</th>\n",
       "      <th>Route</th>\n",
       "      <th>Arrival_Time</th>\n",
       "      <th>Duration</th>\n",
       "      <th>Total_Stops</th>\n",
       "      <th>Additional_Info</th>\n",
       "      <th>Price</th>\n",
       "      <th>Journey_day</th>\n",
       "      <th>Journey_month</th>\n",
       "      <th>Dep_hour</th>\n",
       "      <th>Dep_min</th>\n",
       "    </tr>\n",
       "  </thead>\n",
       "  <tbody>\n",
       "    <tr>\n",
       "      <th>0</th>\n",
       "      <td>IndiGo</td>\n",
       "      <td>Banglore</td>\n",
       "      <td>New Delhi</td>\n",
       "      <td>BLR → DEL</td>\n",
       "      <td>01:10 22 Mar</td>\n",
       "      <td>2h 50m</td>\n",
       "      <td>0</td>\n",
       "      <td>No info</td>\n",
       "      <td>3897</td>\n",
       "      <td>24</td>\n",
       "      <td>3</td>\n",
       "      <td>22</td>\n",
       "      <td>20</td>\n",
       "    </tr>\n",
       "    <tr>\n",
       "      <th>1</th>\n",
       "      <td>Air India</td>\n",
       "      <td>Kolkata</td>\n",
       "      <td>Banglore</td>\n",
       "      <td>CCU → IXR → BBI → BLR</td>\n",
       "      <td>13:15</td>\n",
       "      <td>7h 25m</td>\n",
       "      <td>2</td>\n",
       "      <td>No info</td>\n",
       "      <td>7662</td>\n",
       "      <td>1</td>\n",
       "      <td>5</td>\n",
       "      <td>5</td>\n",
       "      <td>50</td>\n",
       "    </tr>\n",
       "  </tbody>\n",
       "</table>\n",
       "</div>"
      ],
      "text/plain": [
       "     Airline    Source Destination                  Route  Arrival_Time  \\\n",
       "0     IndiGo  Banglore   New Delhi              BLR → DEL  01:10 22 Mar   \n",
       "1  Air India   Kolkata    Banglore  CCU → IXR → BBI → BLR         13:15   \n",
       "\n",
       "  Duration  Total_Stops Additional_Info  Price  Journey_day  Journey_month  \\\n",
       "0   2h 50m            0         No info   3897           24              3   \n",
       "1   7h 25m            2         No info   7662            1              5   \n",
       "\n",
       "   Dep_hour  Dep_min  \n",
       "0        22       20  \n",
       "1         5       50  "
      ]
     },
     "execution_count": 16,
     "metadata": {},
     "output_type": "execute_result"
    }
   ],
   "source": [
    "df.head(2)"
   ]
  },
  {
   "cell_type": "code",
   "execution_count": 17,
   "metadata": {},
   "outputs": [],
   "source": [
    "df[\"Arrival_hour\"] = pd.to_datetime(df.Arrival_Time).dt.hour\n",
    "df[\"Arrival_min\"] = pd.to_datetime(df.Arrival_Time).dt.minute\n",
    "df.drop([\"Arrival_Time\"], axis = 1, inplace = True)"
   ]
  },
  {
   "cell_type": "code",
   "execution_count": 18,
   "metadata": {},
   "outputs": [],
   "source": [
    "df.drop(['Route','Additional_Info'],axis=1,inplace=True)"
   ]
  },
  {
   "cell_type": "code",
   "execution_count": 19,
   "metadata": {},
   "outputs": [
    {
     "data": {
      "text/html": [
       "<div>\n",
       "<style scoped>\n",
       "    .dataframe tbody tr th:only-of-type {\n",
       "        vertical-align: middle;\n",
       "    }\n",
       "\n",
       "    .dataframe tbody tr th {\n",
       "        vertical-align: top;\n",
       "    }\n",
       "\n",
       "    .dataframe thead th {\n",
       "        text-align: right;\n",
       "    }\n",
       "</style>\n",
       "<table border=\"1\" class=\"dataframe\">\n",
       "  <thead>\n",
       "    <tr style=\"text-align: right;\">\n",
       "      <th></th>\n",
       "      <th>Airline</th>\n",
       "      <th>Source</th>\n",
       "      <th>Destination</th>\n",
       "      <th>Duration</th>\n",
       "      <th>Total_Stops</th>\n",
       "      <th>Price</th>\n",
       "      <th>Journey_day</th>\n",
       "      <th>Journey_month</th>\n",
       "      <th>Dep_hour</th>\n",
       "      <th>Dep_min</th>\n",
       "      <th>Arrival_hour</th>\n",
       "      <th>Arrival_min</th>\n",
       "    </tr>\n",
       "  </thead>\n",
       "  <tbody>\n",
       "    <tr>\n",
       "      <th>0</th>\n",
       "      <td>IndiGo</td>\n",
       "      <td>Banglore</td>\n",
       "      <td>New Delhi</td>\n",
       "      <td>2h 50m</td>\n",
       "      <td>0</td>\n",
       "      <td>3897</td>\n",
       "      <td>24</td>\n",
       "      <td>3</td>\n",
       "      <td>22</td>\n",
       "      <td>20</td>\n",
       "      <td>1</td>\n",
       "      <td>10</td>\n",
       "    </tr>\n",
       "    <tr>\n",
       "      <th>1</th>\n",
       "      <td>Air India</td>\n",
       "      <td>Kolkata</td>\n",
       "      <td>Banglore</td>\n",
       "      <td>7h 25m</td>\n",
       "      <td>2</td>\n",
       "      <td>7662</td>\n",
       "      <td>1</td>\n",
       "      <td>5</td>\n",
       "      <td>5</td>\n",
       "      <td>50</td>\n",
       "      <td>13</td>\n",
       "      <td>15</td>\n",
       "    </tr>\n",
       "  </tbody>\n",
       "</table>\n",
       "</div>"
      ],
      "text/plain": [
       "     Airline    Source Destination Duration  Total_Stops  Price  Journey_day  \\\n",
       "0     IndiGo  Banglore   New Delhi   2h 50m            0   3897           24   \n",
       "1  Air India   Kolkata    Banglore   7h 25m            2   7662            1   \n",
       "\n",
       "   Journey_month  Dep_hour  Dep_min  Arrival_hour  Arrival_min  \n",
       "0              3        22       20             1           10  \n",
       "1              5         5       50            13           15  "
      ]
     },
     "execution_count": 19,
     "metadata": {},
     "output_type": "execute_result"
    }
   ],
   "source": [
    "df.head(2)"
   ]
  },
  {
   "cell_type": "code",
   "execution_count": 25,
   "metadata": {},
   "outputs": [],
   "source": [
    "#duration = list(df[\"Duration\"])\n",
    "#duration"
   ]
  },
  {
   "cell_type": "markdown",
   "metadata": {},
   "source": [
    "# Extract hr and min from duration column"
   ]
  },
  {
   "cell_type": "code",
   "execution_count": 23,
   "metadata": {},
   "outputs": [],
   "source": [
    "for i in range(len(duration)):\n",
    "    if len(duration[i].split()) != 2:    # Check if duration contains only hour or mins\n",
    "        if \"h\" in duration[i]:\n",
    "            duration[i] = duration[i].strip() + \" 0m\"   # Adds 0 minute\n",
    "        else:\n",
    "            duration[i] = \"0h \" + duration[i]           # Adds 0 hour  "
   ]
  },
  {
   "cell_type": "code",
   "execution_count": 24,
   "metadata": {},
   "outputs": [
    {
     "data": {
      "text/plain": [
       "['2h 50m',\n",
       " '7h 25m',\n",
       " '19h 0m',\n",
       " '5h 25m',\n",
       " '4h 45m',\n",
       " '2h 25m',\n",
       " '15h 30m',\n",
       " '21h 5m',\n",
       " '25h 30m',\n",
       " '7h 50m',\n",
       " '13h 15m',\n",
       " '2h 35m',\n",
       " '2h 15m',\n",
       " '12h 10m',\n",
       " '2h 35m',\n",
       " '26h 35m',\n",
       " '4h 30m',\n",
       " '22h 35m',\n",
       " '23h 0m',\n",
       " '20h 35m',\n",
       " '5h 10m',\n",
       " '15h 20m',\n",
       " '2h 50m',\n",
       " '2h 55m',\n",
       " '13h 20m',\n",
       " '15h 10m',\n",
       " '5h 45m',\n",
       " '5h 55m',\n",
       " '2h 50m',\n",
       " '2h 15m',\n",
       " '2h 15m',\n",
       " '13h 25m',\n",
       " '2h 50m',\n",
       " '22h 0m',\n",
       " '5h 30m',\n",
       " '10h 25m',\n",
       " '5h 15m',\n",
       " '2h 30m',\n",
       " '6h 15m',\n",
       " '11h 55m',\n",
       " '11h 5m',\n",
       " '8h 30m',\n",
       " '22h 5m',\n",
       " '2h 45m',\n",
       " '12h 0m',\n",
       " '2h 50m',\n",
       " '2h 50m',\n",
       " '2h 15m',\n",
       " '16h 5m',\n",
       " '19h 55m',\n",
       " '3h 15m',\n",
       " '25h 20m',\n",
       " '2h 50m',\n",
       " '3h 0m',\n",
       " '2h 50m',\n",
       " '16h 15m',\n",
       " '15h 5m',\n",
       " '2h 15m',\n",
       " '6h 30m',\n",
       " '25h 5m',\n",
       " '12h 25m',\n",
       " '27h 20m',\n",
       " '10h 15m',\n",
       " '10h 30m',\n",
       " '2h 15m',\n",
       " '10h 25m',\n",
       " '2h 50m',\n",
       " '1h 30m',\n",
       " '13h 20m',\n",
       " '2h 15m',\n",
       " '1h 25m',\n",
       " '26h 30m',\n",
       " '7h 20m',\n",
       " '13h 30m',\n",
       " '5h 0m',\n",
       " '2h 45m',\n",
       " '2h 50m',\n",
       " '1h 30m',\n",
       " '19h 5m',\n",
       " '2h 15m',\n",
       " '14h 50m',\n",
       " '2h 40m',\n",
       " '22h 10m',\n",
       " '9h 35m',\n",
       " '10h 0m',\n",
       " '21h 20m',\n",
       " '5h 25m',\n",
       " '18h 45m',\n",
       " '12h 20m',\n",
       " '18h 0m',\n",
       " '9h 15m',\n",
       " '11h 5m',\n",
       " '17h 30m',\n",
       " '13h 20m',\n",
       " '2h 35m',\n",
       " '2h 25m',\n",
       " '2h 40m',\n",
       " '3h 0m',\n",
       " '1h 25m',\n",
       " '16h 35m',\n",
       " '12h 20m',\n",
       " '12h 15m',\n",
       " '7h 30m',\n",
       " '24h 0m',\n",
       " '2h 45m',\n",
       " '8h 55m',\n",
       " '7h 10m',\n",
       " '14h 30m',\n",
       " '30h 20m',\n",
       " '19h 55m',\n",
       " '15h 0m',\n",
       " '2h 55m',\n",
       " '12h 45m',\n",
       " '10h 10m',\n",
       " '5h 55m',\n",
       " '15h 25m',\n",
       " '16h 5m',\n",
       " '10h 10m',\n",
       " '2h 40m',\n",
       " '11h 55m',\n",
       " '2h 40m',\n",
       " '1h 25m',\n",
       " '14h 5m',\n",
       " '20h 15m',\n",
       " '2h 25m',\n",
       " '23h 10m',\n",
       " '18h 10m',\n",
       " '16h 0m',\n",
       " '2h 50m',\n",
       " '2h 20m',\n",
       " '8h 0m',\n",
       " '16h 55m',\n",
       " '3h 10m',\n",
       " '2h 45m',\n",
       " '14h 0m',\n",
       " '23h 50m',\n",
       " '21h 40m',\n",
       " '21h 15m',\n",
       " '2h 45m',\n",
       " '10h 50m',\n",
       " '8h 0m',\n",
       " '8h 15m',\n",
       " '5h 25m',\n",
       " '8h 35m',\n",
       " '11h 50m',\n",
       " '27h 35m',\n",
       " '8h 25m',\n",
       " '20h 55m',\n",
       " '4h 50m',\n",
       " '8h 10m',\n",
       " '2h 20m',\n",
       " '24h 25m',\n",
       " '2h 50m',\n",
       " '12h 20m',\n",
       " '12h 15m',\n",
       " '23h 35m',\n",
       " '16h 35m',\n",
       " '2h 50m',\n",
       " '25h 45m',\n",
       " '26h 10m',\n",
       " '28h 50m',\n",
       " '2h 45m',\n",
       " '25h 15m',\n",
       " '9h 20m',\n",
       " '4h 30m',\n",
       " '15h 25m',\n",
       " '1h 30m',\n",
       " '2h 40m',\n",
       " '9h 10m',\n",
       " '2h 45m',\n",
       " '22h 35m',\n",
       " '3h 5m',\n",
       " '11h 30m',\n",
       " '9h 30m',\n",
       " '12h 10m',\n",
       " '17h 35m',\n",
       " '5h 5m',\n",
       " '25h 50m',\n",
       " '20h 0m',\n",
       " '13h 0m',\n",
       " '18h 25m',\n",
       " '1h 30m',\n",
       " '9h 30m',\n",
       " '16h 0m',\n",
       " '2h 20m',\n",
       " '4h 30m',\n",
       " '5h 45m',\n",
       " '24h 10m',\n",
       " '2h 35m',\n",
       " '2h 45m',\n",
       " '4h 55m',\n",
       " '25h 35m',\n",
       " '6h 20m',\n",
       " '3h 5m',\n",
       " '18h 40m',\n",
       " '2h 15m',\n",
       " '12h 10m',\n",
       " '19h 25m',\n",
       " '2h 50m',\n",
       " '8h 25m',\n",
       " '9h 15m',\n",
       " '2h 50m',\n",
       " '3h 15m',\n",
       " '2h 50m',\n",
       " '12h 20m',\n",
       " '2h 55m',\n",
       " '9h 35m',\n",
       " '2h 35m',\n",
       " '9h 30m',\n",
       " '29h 20m',\n",
       " '2h 55m',\n",
       " '5h 15m',\n",
       " '9h 5m',\n",
       " '10h 45m',\n",
       " '4h 55m',\n",
       " '1h 30m',\n",
       " '11h 40m',\n",
       " '2h 45m',\n",
       " '2h 55m',\n",
       " '10h 0m',\n",
       " '2h 45m',\n",
       " '10h 15m',\n",
       " '1h 25m',\n",
       " '9h 15m',\n",
       " '22h 55m',\n",
       " '28h 50m',\n",
       " '37h 25m',\n",
       " '2h 50m',\n",
       " '1h 30m',\n",
       " '1h 30m',\n",
       " '25h 40m',\n",
       " '2h 35m',\n",
       " '6h 15m',\n",
       " '17h 30m',\n",
       " '5h 45m',\n",
       " '2h 35m',\n",
       " '25h 30m',\n",
       " '13h 55m',\n",
       " '2h 55m',\n",
       " '10h 15m',\n",
       " '8h 40m',\n",
       " '5h 30m',\n",
       " '12h 0m',\n",
       " '2h 15m',\n",
       " '2h 15m',\n",
       " '2h 50m',\n",
       " '9h 10m',\n",
       " '10h 25m',\n",
       " '2h 20m',\n",
       " '4h 30m',\n",
       " '3h 10m',\n",
       " '23h 30m',\n",
       " '27h 20m',\n",
       " '12h 35m',\n",
       " '24h 15m',\n",
       " '1h 20m',\n",
       " '2h 45m',\n",
       " '3h 0m',\n",
       " '11h 0m',\n",
       " '13h 30m',\n",
       " '2h 50m',\n",
       " '2h 55m',\n",
       " '2h 45m',\n",
       " '11h 15m',\n",
       " '14h 35m',\n",
       " '13h 55m',\n",
       " '14h 5m',\n",
       " '15h 5m',\n",
       " '2h 15m',\n",
       " '15h 0m',\n",
       " '12h 55m',\n",
       " '9h 0m',\n",
       " '12h 15m',\n",
       " '7h 40m',\n",
       " '27h 20m',\n",
       " '1h 25m',\n",
       " '1h 20m',\n",
       " '5h 30m',\n",
       " '11h 45m',\n",
       " '3h 15m',\n",
       " '24h 55m',\n",
       " '27h 20m',\n",
       " '2h 55m',\n",
       " '17h 5m',\n",
       " '2h 40m',\n",
       " '8h 0m',\n",
       " '3h 0m',\n",
       " '27h 35m',\n",
       " '7h 30m',\n",
       " '22h 55m',\n",
       " '8h 35m',\n",
       " '29h 55m',\n",
       " '22h 15m',\n",
       " '1h 20m',\n",
       " '2h 40m',\n",
       " '3h 0m',\n",
       " '12h 10m',\n",
       " '2h 35m',\n",
       " '11h 45m',\n",
       " '2h 35m',\n",
       " '1h 30m',\n",
       " '2h 40m',\n",
       " '2h 35m',\n",
       " '22h 55m',\n",
       " '14h 40m',\n",
       " '15h 25m',\n",
       " '7h 15m',\n",
       " '20h 10m',\n",
       " '20h 45m',\n",
       " '2h 30m',\n",
       " '23h 50m',\n",
       " '27h 0m',\n",
       " '5h 30m',\n",
       " '11h 50m',\n",
       " '2h 15m',\n",
       " '24h 30m',\n",
       " '2h 20m',\n",
       " '6h 30m',\n",
       " '20h 25m',\n",
       " '2h 35m',\n",
       " '2h 55m',\n",
       " '5h 35m',\n",
       " '2h 30m',\n",
       " '14h 45m',\n",
       " '12h 20m',\n",
       " '25h 30m',\n",
       " '5h 35m',\n",
       " '11h 45m',\n",
       " '2h 55m',\n",
       " '5h 40m',\n",
       " '4h 5m',\n",
       " '8h 0m',\n",
       " '2h 45m',\n",
       " '2h 40m',\n",
       " '2h 55m',\n",
       " '15h 55m',\n",
       " '23h 10m',\n",
       " '7h 20m',\n",
       " '2h 50m',\n",
       " '7h 30m',\n",
       " '3h 0m',\n",
       " '7h 45m',\n",
       " '25h 20m',\n",
       " '10h 25m',\n",
       " '30h 20m',\n",
       " '2h 35m',\n",
       " '9h 0m',\n",
       " '15h 10m',\n",
       " '28h 20m',\n",
       " '3h 0m',\n",
       " '2h 45m',\n",
       " '4h 55m',\n",
       " '2h 40m',\n",
       " '22h 10m',\n",
       " '10h 10m',\n",
       " '2h 50m',\n",
       " '4h 20m',\n",
       " '11h 0m',\n",
       " '3h 0m',\n",
       " '22h 35m',\n",
       " '3h 5m',\n",
       " '2h 40m',\n",
       " '2h 50m',\n",
       " '21h 5m',\n",
       " '11h 50m',\n",
       " '25h 35m',\n",
       " '15h 25m',\n",
       " '2h 25m',\n",
       " '3h 40m',\n",
       " '2h 55m',\n",
       " '3h 10m',\n",
       " '11h 50m',\n",
       " '2h 50m',\n",
       " '2h 50m',\n",
       " '1h 30m',\n",
       " '11h 30m',\n",
       " '8h 50m',\n",
       " '20h 15m',\n",
       " '20h 10m',\n",
       " '16h 5m',\n",
       " '12h 35m',\n",
       " '17h 5m',\n",
       " '3h 0m',\n",
       " '15h 30m',\n",
       " '11h 30m',\n",
       " '2h 20m',\n",
       " '23h 45m',\n",
       " '1h 30m',\n",
       " '2h 35m',\n",
       " '24h 45m',\n",
       " '21h 35m',\n",
       " '5h 30m',\n",
       " '12h 15m',\n",
       " '8h 5m',\n",
       " '5h 0m',\n",
       " '2h 50m',\n",
       " '6h 25m',\n",
       " '2h 20m',\n",
       " '2h 45m',\n",
       " '12h 45m',\n",
       " '15h 50m',\n",
       " '27h 0m',\n",
       " '26h 25m',\n",
       " '2h 55m',\n",
       " '24h 50m',\n",
       " '8h 40m',\n",
       " '25h 45m',\n",
       " '2h 50m',\n",
       " '6h 15m',\n",
       " '10h 30m',\n",
       " '26h 0m',\n",
       " '17h 5m',\n",
       " '21h 20m',\n",
       " '5h 35m',\n",
       " '2h 50m',\n",
       " '25h 50m',\n",
       " '12h 10m',\n",
       " '17h 5m',\n",
       " '8h 30m',\n",
       " '23h 5m',\n",
       " '9h 20m',\n",
       " '7h 55m',\n",
       " '1h 30m',\n",
       " '2h 50m',\n",
       " '2h 15m',\n",
       " '10h 0m',\n",
       " '2h 35m',\n",
       " '7h 45m',\n",
       " '2h 55m',\n",
       " '26h 20m',\n",
       " '2h 40m',\n",
       " '11h 0m',\n",
       " '19h 25m',\n",
       " '2h 55m',\n",
       " '2h 45m',\n",
       " '23h 15m',\n",
       " '9h 0m',\n",
       " '3h 10m',\n",
       " '6h 25m',\n",
       " '8h 40m',\n",
       " '2h 50m',\n",
       " '12h 20m',\n",
       " '5h 20m',\n",
       " '4h 0m',\n",
       " '9h 45m',\n",
       " '2h 55m',\n",
       " '26h 20m',\n",
       " '2h 15m',\n",
       " '9h 45m',\n",
       " '24h 55m',\n",
       " '11h 55m',\n",
       " '8h 20m',\n",
       " '17h 25m',\n",
       " '2h 50m',\n",
       " '7h 5m',\n",
       " '21h 15m',\n",
       " '5h 0m',\n",
       " '2h 25m',\n",
       " '5h 15m',\n",
       " '15h 10m',\n",
       " '11h 45m',\n",
       " '3h 0m',\n",
       " '4h 55m',\n",
       " '2h 45m',\n",
       " '2h 30m',\n",
       " '9h 45m',\n",
       " '2h 40m',\n",
       " '6h 30m',\n",
       " '5h 30m',\n",
       " '2h 40m',\n",
       " '34h 5m',\n",
       " '15h 25m',\n",
       " '9h 30m',\n",
       " '6h 5m',\n",
       " '2h 40m',\n",
       " '5h 50m',\n",
       " '2h 45m',\n",
       " '27h 20m',\n",
       " '3h 0m',\n",
       " '5h 15m',\n",
       " '16h 0m',\n",
       " '7h 0m',\n",
       " '8h 40m',\n",
       " '9h 0m',\n",
       " '2h 20m',\n",
       " '2h 20m',\n",
       " '6h 20m',\n",
       " '4h 25m',\n",
       " '2h 20m',\n",
       " '11h 5m',\n",
       " '16h 55m',\n",
       " '13h 45m',\n",
       " '25h 45m',\n",
       " '13h 55m',\n",
       " '5h 15m',\n",
       " '19h 15m',\n",
       " '7h 30m',\n",
       " '9h 0m',\n",
       " '24h 0m',\n",
       " '18h 10m',\n",
       " '2h 55m',\n",
       " '1h 30m',\n",
       " '21h 20m',\n",
       " '6h 15m',\n",
       " '14h 30m',\n",
       " '1h 20m',\n",
       " '12h 55m',\n",
       " '2h 25m',\n",
       " '22h 30m',\n",
       " '22h 55m',\n",
       " '5h 25m',\n",
       " '1h 25m',\n",
       " '7h 15m',\n",
       " '12h 20m',\n",
       " '20h 10m',\n",
       " '21h 15m',\n",
       " '2h 15m',\n",
       " '10h 30m',\n",
       " '14h 5m',\n",
       " '2h 50m',\n",
       " '16h 25m',\n",
       " '5h 15m',\n",
       " '13h 50m',\n",
       " '2h 15m',\n",
       " '7h 15m',\n",
       " '27h 5m',\n",
       " '27h 35m',\n",
       " '5h 0m',\n",
       " '2h 50m',\n",
       " '2h 50m',\n",
       " '15h 20m',\n",
       " '5h 20m',\n",
       " '10h 10m',\n",
       " '27h 35m',\n",
       " '9h 35m',\n",
       " '28h 10m',\n",
       " '14h 0m',\n",
       " '2h 35m',\n",
       " '2h 55m',\n",
       " '2h 35m',\n",
       " '4h 40m',\n",
       " '2h 30m',\n",
       " '11h 15m',\n",
       " '7h 55m',\n",
       " '8h 50m',\n",
       " '1h 25m',\n",
       " '15h 40m',\n",
       " '2h 35m',\n",
       " '2h 55m',\n",
       " '13h 25m',\n",
       " '4h 35m',\n",
       " '18h 30m',\n",
       " '2h 15m',\n",
       " '38h 15m',\n",
       " '3h 5m',\n",
       " '25h 50m',\n",
       " '3h 10m',\n",
       " '2h 50m',\n",
       " '11h 30m',\n",
       " '6h 35m',\n",
       " '27h 35m',\n",
       " '2h 35m',\n",
       " '7h 30m',\n",
       " '3h 15m',\n",
       " '9h 35m',\n",
       " '12h 30m',\n",
       " '11h 20m',\n",
       " '3h 0m',\n",
       " '2h 35m',\n",
       " '1h 30m',\n",
       " '26h 10m',\n",
       " '4h 55m',\n",
       " '2h 45m',\n",
       " '8h 40m',\n",
       " '7h 5m',\n",
       " '2h 45m',\n",
       " '24h 50m',\n",
       " '2h 20m',\n",
       " '11h 0m',\n",
       " '9h 0m',\n",
       " '2h 55m',\n",
       " '3h 5m',\n",
       " '2h 35m',\n",
       " '13h 0m',\n",
       " '1h 25m',\n",
       " '7h 35m',\n",
       " '2h 40m',\n",
       " '12h 55m',\n",
       " '29h 20m',\n",
       " '5h 0m',\n",
       " '8h 40m',\n",
       " '3h 0m',\n",
       " '3h 0m',\n",
       " '2h 45m',\n",
       " '12h 10m',\n",
       " '2h 20m',\n",
       " '7h 55m',\n",
       " '29h 35m',\n",
       " '26h 55m',\n",
       " '12h 45m',\n",
       " '7h 35m',\n",
       " '2h 30m',\n",
       " '11h 45m',\n",
       " '23h 40m',\n",
       " '13h 50m',\n",
       " '12h 50m',\n",
       " '9h 50m',\n",
       " '2h 30m',\n",
       " '21h 55m',\n",
       " '26h 10m',\n",
       " '2h 55m',\n",
       " '20h 15m',\n",
       " '20h 10m',\n",
       " '10h 55m',\n",
       " '2h 30m',\n",
       " '21h 10m',\n",
       " '2h 35m',\n",
       " '20h 40m',\n",
       " '2h 50m',\n",
       " '6h 30m',\n",
       " '30h 0m',\n",
       " '13h 10m',\n",
       " '2h 55m',\n",
       " '18h 0m',\n",
       " '8h 0m',\n",
       " '8h 45m',\n",
       " '12h 30m',\n",
       " '13h 20m',\n",
       " '6h 10m',\n",
       " '7h 30m',\n",
       " '19h 15m',\n",
       " '2h 35m',\n",
       " '12h 0m',\n",
       " '3h 0m',\n",
       " '2h 50m',\n",
       " '1h 25m',\n",
       " '23h 5m',\n",
       " '2h 50m',\n",
       " '22h 5m',\n",
       " '2h 15m',\n",
       " '5h 45m',\n",
       " '2h 50m',\n",
       " '9h 30m',\n",
       " '8h 55m',\n",
       " '17h 45m',\n",
       " '2h 50m',\n",
       " '21h 45m',\n",
       " '12h 35m',\n",
       " '1h 30m',\n",
       " '2h 15m',\n",
       " '3h 55m',\n",
       " '2h 45m',\n",
       " '7h 30m',\n",
       " '17h 20m',\n",
       " '1h 30m',\n",
       " '1h 30m',\n",
       " '30h 30m',\n",
       " '5h 0m',\n",
       " '11h 15m',\n",
       " '2h 50m',\n",
       " '19h 5m',\n",
       " '6h 35m',\n",
       " '7h 30m',\n",
       " '2h 15m',\n",
       " '2h 45m',\n",
       " '12h 45m',\n",
       " '2h 50m',\n",
       " '26h 35m',\n",
       " '12h 55m',\n",
       " '1h 30m',\n",
       " '8h 40m',\n",
       " '14h 0m',\n",
       " '23h 30m',\n",
       " '29h 55m',\n",
       " '22h 10m',\n",
       " '4h 50m',\n",
       " '2h 45m',\n",
       " '13h 30m',\n",
       " '13h 20m',\n",
       " '2h 20m',\n",
       " '11h 55m',\n",
       " '5h 10m',\n",
       " '11h 45m',\n",
       " '13h 50m',\n",
       " '3h 0m',\n",
       " '6h 10m',\n",
       " '2h 20m',\n",
       " '10h 45m',\n",
       " '2h 15m',\n",
       " '2h 55m',\n",
       " '1h 30m',\n",
       " '7h 35m',\n",
       " '26h 35m',\n",
       " '4h 45m',\n",
       " '21h 25m',\n",
       " '8h 35m',\n",
       " '8h 30m',\n",
       " '2h 15m',\n",
       " '12h 40m',\n",
       " '8h 25m',\n",
       " '25h 40m',\n",
       " '2h 45m',\n",
       " '29h 20m',\n",
       " '2h 40m',\n",
       " '2h 50m',\n",
       " '2h 20m',\n",
       " '7h 15m',\n",
       " '20h 15m',\n",
       " '11h 45m',\n",
       " '2h 35m',\n",
       " '13h 30m',\n",
       " '1h 30m',\n",
       " '24h 35m',\n",
       " '20h 35m',\n",
       " '2h 50m',\n",
       " '4h 35m',\n",
       " '2h 20m',\n",
       " '11h 45m',\n",
       " '1h 30m',\n",
       " '12h 50m',\n",
       " '24h 30m',\n",
       " '11h 30m',\n",
       " '4h 0m',\n",
       " '11h 0m',\n",
       " '5h 25m',\n",
       " '2h 35m',\n",
       " '5h 10m',\n",
       " '10h 10m',\n",
       " '26h 55m',\n",
       " '7h 15m',\n",
       " '8h 10m',\n",
       " '2h 55m',\n",
       " '5h 15m',\n",
       " '2h 20m',\n",
       " '1h 25m',\n",
       " '4h 50m',\n",
       " '2h 20m',\n",
       " '2h 20m',\n",
       " '13h 15m',\n",
       " '19h 10m',\n",
       " '22h 40m',\n",
       " '14h 50m',\n",
       " '15h 10m',\n",
       " '7h 5m',\n",
       " '1h 25m',\n",
       " '2h 55m',\n",
       " '8h 0m',\n",
       " '2h 45m',\n",
       " '14h 55m',\n",
       " '1h 30m',\n",
       " '16h 15m',\n",
       " '2h 50m',\n",
       " '5h 0m',\n",
       " '22h 15m',\n",
       " '5h 30m',\n",
       " '8h 35m',\n",
       " '15h 25m',\n",
       " '21h 0m',\n",
       " '13h 30m',\n",
       " '2h 50m',\n",
       " '6h 45m',\n",
       " '1h 30m',\n",
       " '8h 40m',\n",
       " '1h 30m',\n",
       " '2h 50m',\n",
       " '2h 35m',\n",
       " '16h 5m',\n",
       " '23h 50m',\n",
       " '27h 5m',\n",
       " '16h 15m',\n",
       " '15h 25m',\n",
       " '2h 50m',\n",
       " '8h 35m',\n",
       " '13h 50m',\n",
       " '2h 40m',\n",
       " '2h 25m',\n",
       " '3h 10m',\n",
       " '2h 55m',\n",
       " '28h 40m',\n",
       " '2h 50m',\n",
       " '2h 35m',\n",
       " '9h 40m',\n",
       " '16h 40m',\n",
       " '6h 20m',\n",
       " '27h 0m',\n",
       " '14h 35m',\n",
       " '12h 10m',\n",
       " '7h 35m',\n",
       " '2h 20m',\n",
       " '19h 10m',\n",
       " '20h 0m',\n",
       " '3h 0m',\n",
       " '5h 10m',\n",
       " '2h 40m',\n",
       " '29h 35m',\n",
       " '4h 55m',\n",
       " '3h 0m',\n",
       " '12h 30m',\n",
       " '12h 35m',\n",
       " '26h 20m',\n",
       " '13h 15m',\n",
       " '2h 50m',\n",
       " '12h 45m',\n",
       " '16h 20m',\n",
       " '2h 40m',\n",
       " '8h 15m',\n",
       " '12h 0m',\n",
       " '2h 50m',\n",
       " '11h 0m',\n",
       " '2h 20m',\n",
       " '13h 50m',\n",
       " '8h 10m',\n",
       " '12h 10m',\n",
       " '2h 40m',\n",
       " '2h 45m',\n",
       " '2h 50m',\n",
       " '24h 0m',\n",
       " '3h 0m',\n",
       " '12h 35m',\n",
       " '25h 50m',\n",
       " '2h 55m',\n",
       " '17h 5m',\n",
       " '29h 20m',\n",
       " '8h 55m',\n",
       " '3h 5m',\n",
       " '9h 0m',\n",
       " '10h 25m',\n",
       " '16h 45m',\n",
       " '2h 45m',\n",
       " '26h 20m',\n",
       " '13h 15m',\n",
       " '10h 30m',\n",
       " '7h 35m',\n",
       " '11h 0m',\n",
       " '2h 50m',\n",
       " '25h 45m',\n",
       " '6h 25m',\n",
       " '1h 25m',\n",
       " '20h 10m',\n",
       " '11h 55m',\n",
       " '2h 50m',\n",
       " '5h 0m',\n",
       " '27h 0m',\n",
       " '2h 50m',\n",
       " '1h 15m',\n",
       " '10h 15m',\n",
       " '24h 50m',\n",
       " '2h 50m',\n",
       " '20h 0m',\n",
       " '5h 30m',\n",
       " '2h 45m',\n",
       " '6h 55m',\n",
       " '2h 45m',\n",
       " '5h 15m',\n",
       " '6h 15m',\n",
       " '2h 50m',\n",
       " '19h 25m',\n",
       " '2h 55m',\n",
       " '11h 25m',\n",
       " '14h 5m',\n",
       " '2h 45m',\n",
       " '3h 15m',\n",
       " '14h 20m',\n",
       " '12h 30m',\n",
       " '5h 20m',\n",
       " '26h 20m',\n",
       " '3h 5m',\n",
       " '1h 30m',\n",
       " '7h 5m',\n",
       " '6h 10m',\n",
       " '8h 0m',\n",
       " '12h 5m',\n",
       " '12h 55m',\n",
       " '9h 35m',\n",
       " '15h 10m',\n",
       " '11h 40m',\n",
       " '2h 55m',\n",
       " '4h 30m',\n",
       " '2h 40m',\n",
       " '2h 30m',\n",
       " '24h 10m',\n",
       " '28h 20m',\n",
       " '1h 25m',\n",
       " '10h 10m',\n",
       " '11h 30m',\n",
       " '2h 50m',\n",
       " '13h 45m',\n",
       " '6h 25m',\n",
       " '12h 55m',\n",
       " '4h 25m',\n",
       " '13h 30m',\n",
       " '24h 5m',\n",
       " '16h 5m',\n",
       " '8h 20m',\n",
       " '3h 40m',\n",
       " '9h 30m',\n",
       " '28h 15m',\n",
       " '13h 20m',\n",
       " '17h 50m',\n",
       " '20h 20m',\n",
       " '28h 5m',\n",
       " '15h 25m',\n",
       " '12h 5m',\n",
       " '10h 20m',\n",
       " '12h 25m',\n",
       " '7h 35m',\n",
       " '2h 50m',\n",
       " '4h 35m',\n",
       " '11h 15m',\n",
       " '2h 35m',\n",
       " '26h 0m',\n",
       " '2h 25m',\n",
       " '2h 35m',\n",
       " '14h 15m',\n",
       " '2h 35m',\n",
       " '22h 5m',\n",
       " '6h 35m',\n",
       " '8h 30m',\n",
       " '18h 45m',\n",
       " '35h 15m',\n",
       " '2h 15m',\n",
       " '2h 30m',\n",
       " '2h 20m',\n",
       " '2h 30m',\n",
       " '7h 35m',\n",
       " '35h 35m',\n",
       " '26h 30m',\n",
       " '11h 30m',\n",
       " '26h 40m',\n",
       " '3h 0m',\n",
       " '1h 30m',\n",
       " '2h 55m',\n",
       " '14h 15m',\n",
       " '16h 55m',\n",
       " '12h 20m',\n",
       " '29h 35m',\n",
       " '20h 20m',\n",
       " '8h 25m',\n",
       " '13h 50m',\n",
       " '10h 0m',\n",
       " '19h 25m',\n",
       " '28h 0m',\n",
       " '2h 50m',\n",
       " '17h 20m',\n",
       " '2h 45m',\n",
       " '2h 55m',\n",
       " '13h 25m',\n",
       " '12h 55m',\n",
       " '9h 45m',\n",
       " '21h 25m',\n",
       " '15h 40m',\n",
       " '2h 20m',\n",
       " '14h 25m',\n",
       " '2h 50m',\n",
       " '6h 35m',\n",
       " '22h 10m',\n",
       " '14h 25m',\n",
       " '2h 30m',\n",
       " '23h 35m',\n",
       " '13h 5m',\n",
       " '1h 30m',\n",
       " '5h 5m',\n",
       " '1h 20m',\n",
       " '22h 55m',\n",
       " '1h 30m',\n",
       " '2h 35m',\n",
       " '37h 20m',\n",
       " '2h 50m',\n",
       " '2h 50m',\n",
       " '36h 10m',\n",
       " '9h 15m',\n",
       " '1h 25m',\n",
       " '5h 5m',\n",
       " '2h 15m',\n",
       " '15h 10m',\n",
       " '25h 55m',\n",
       " '5h 40m',\n",
       " '7h 30m',\n",
       " '17h 45m',\n",
       " '2h 20m',\n",
       " '8h 15m',\n",
       " '3h 40m',\n",
       " '5h 55m',\n",
       " '2h 30m',\n",
       " '17h 30m',\n",
       " '13h 50m',\n",
       " '2h 15m',\n",
       " '21h 35m',\n",
       " '9h 30m',\n",
       " '8h 40m',\n",
       " '10h 25m',\n",
       " '35h 5m',\n",
       " '14h 15m',\n",
       " '3h 0m',\n",
       " '25h 50m',\n",
       " '2h 30m',\n",
       " '8h 40m',\n",
       " '10h 0m',\n",
       " '11h 30m',\n",
       " '7h 30m',\n",
       " ...]"
      ]
     },
     "execution_count": 24,
     "metadata": {},
     "output_type": "execute_result"
    }
   ],
   "source": [
    "duration"
   ]
  },
  {
   "cell_type": "markdown",
   "metadata": {},
   "source": [
    "# now Extract hour and min from duration column and create two new column Duration_hours & Duration_mins"
   ]
  },
  {
   "cell_type": "code",
   "execution_count": 26,
   "metadata": {},
   "outputs": [],
   "source": [
    "duration_hours = []\n",
    "duration_mins = []\n",
    "for i in range(len(duration)):\n",
    "    duration_hours.append(int(duration[i].split(sep = \"h\")[0]))    # Extract hours from duration\n",
    "    duration_mins.append(int(duration[i].split(sep = \"m\")[0].split()[-1]))   # Extracts only minutes from duration"
   ]
  },
  {
   "cell_type": "code",
   "execution_count": 27,
   "metadata": {},
   "outputs": [],
   "source": [
    "df[\"Duration_hours\"] = duration_hours\n",
    "df[\"Duration_mins\"] = duration_mins\n",
    "df.drop([\"Duration\"], axis = 1, inplace = True)"
   ]
  },
  {
   "cell_type": "code",
   "execution_count": 28,
   "metadata": {},
   "outputs": [],
   "source": [
    "df['Duration_time(mins)']=df['Duration_hours']*60+df['Duration_mins']"
   ]
  },
  {
   "cell_type": "code",
   "execution_count": 29,
   "metadata": {},
   "outputs": [],
   "source": [
    "df.drop(['Duration_hours','Duration_mins'],axis=1,inplace=True)"
   ]
  },
  {
   "cell_type": "code",
   "execution_count": 30,
   "metadata": {},
   "outputs": [
    {
     "data": {
      "text/html": [
       "<div>\n",
       "<style scoped>\n",
       "    .dataframe tbody tr th:only-of-type {\n",
       "        vertical-align: middle;\n",
       "    }\n",
       "\n",
       "    .dataframe tbody tr th {\n",
       "        vertical-align: top;\n",
       "    }\n",
       "\n",
       "    .dataframe thead th {\n",
       "        text-align: right;\n",
       "    }\n",
       "</style>\n",
       "<table border=\"1\" class=\"dataframe\">\n",
       "  <thead>\n",
       "    <tr style=\"text-align: right;\">\n",
       "      <th></th>\n",
       "      <th>Airline</th>\n",
       "      <th>Source</th>\n",
       "      <th>Destination</th>\n",
       "      <th>Total_Stops</th>\n",
       "      <th>Price</th>\n",
       "      <th>Journey_day</th>\n",
       "      <th>Journey_month</th>\n",
       "      <th>Dep_hour</th>\n",
       "      <th>Dep_min</th>\n",
       "      <th>Arrival_hour</th>\n",
       "      <th>Arrival_min</th>\n",
       "      <th>Duration_time(mins)</th>\n",
       "    </tr>\n",
       "  </thead>\n",
       "  <tbody>\n",
       "    <tr>\n",
       "      <th>0</th>\n",
       "      <td>IndiGo</td>\n",
       "      <td>Banglore</td>\n",
       "      <td>New Delhi</td>\n",
       "      <td>0</td>\n",
       "      <td>3897</td>\n",
       "      <td>24</td>\n",
       "      <td>3</td>\n",
       "      <td>22</td>\n",
       "      <td>20</td>\n",
       "      <td>1</td>\n",
       "      <td>10</td>\n",
       "      <td>170</td>\n",
       "    </tr>\n",
       "    <tr>\n",
       "      <th>1</th>\n",
       "      <td>Air India</td>\n",
       "      <td>Kolkata</td>\n",
       "      <td>Banglore</td>\n",
       "      <td>2</td>\n",
       "      <td>7662</td>\n",
       "      <td>1</td>\n",
       "      <td>5</td>\n",
       "      <td>5</td>\n",
       "      <td>50</td>\n",
       "      <td>13</td>\n",
       "      <td>15</td>\n",
       "      <td>445</td>\n",
       "    </tr>\n",
       "    <tr>\n",
       "      <th>2</th>\n",
       "      <td>Jet Airways</td>\n",
       "      <td>Delhi</td>\n",
       "      <td>Cochin</td>\n",
       "      <td>2</td>\n",
       "      <td>13882</td>\n",
       "      <td>9</td>\n",
       "      <td>6</td>\n",
       "      <td>9</td>\n",
       "      <td>25</td>\n",
       "      <td>4</td>\n",
       "      <td>25</td>\n",
       "      <td>1140</td>\n",
       "    </tr>\n",
       "    <tr>\n",
       "      <th>3</th>\n",
       "      <td>IndiGo</td>\n",
       "      <td>Kolkata</td>\n",
       "      <td>Banglore</td>\n",
       "      <td>1</td>\n",
       "      <td>6218</td>\n",
       "      <td>12</td>\n",
       "      <td>5</td>\n",
       "      <td>18</td>\n",
       "      <td>5</td>\n",
       "      <td>23</td>\n",
       "      <td>30</td>\n",
       "      <td>325</td>\n",
       "    </tr>\n",
       "    <tr>\n",
       "      <th>4</th>\n",
       "      <td>IndiGo</td>\n",
       "      <td>Banglore</td>\n",
       "      <td>New Delhi</td>\n",
       "      <td>1</td>\n",
       "      <td>13302</td>\n",
       "      <td>1</td>\n",
       "      <td>3</td>\n",
       "      <td>16</td>\n",
       "      <td>50</td>\n",
       "      <td>21</td>\n",
       "      <td>35</td>\n",
       "      <td>285</td>\n",
       "    </tr>\n",
       "  </tbody>\n",
       "</table>\n",
       "</div>"
      ],
      "text/plain": [
       "       Airline    Source Destination  Total_Stops  Price  Journey_day  \\\n",
       "0       IndiGo  Banglore   New Delhi            0   3897           24   \n",
       "1    Air India   Kolkata    Banglore            2   7662            1   \n",
       "2  Jet Airways     Delhi      Cochin            2  13882            9   \n",
       "3       IndiGo   Kolkata    Banglore            1   6218           12   \n",
       "4       IndiGo  Banglore   New Delhi            1  13302            1   \n",
       "\n",
       "   Journey_month  Dep_hour  Dep_min  Arrival_hour  Arrival_min  \\\n",
       "0              3        22       20             1           10   \n",
       "1              5         5       50            13           15   \n",
       "2              6         9       25             4           25   \n",
       "3              5        18        5            23           30   \n",
       "4              3        16       50            21           35   \n",
       "\n",
       "   Duration_time(mins)  \n",
       "0                  170  \n",
       "1                  445  \n",
       "2                 1140  \n",
       "3                  325  \n",
       "4                  285  "
      ]
     },
     "execution_count": 30,
     "metadata": {},
     "output_type": "execute_result"
    }
   ],
   "source": [
    "df.head()"
   ]
  },
  {
   "cell_type": "code",
   "execution_count": 31,
   "metadata": {},
   "outputs": [
    {
     "data": {
      "text/plain": [
       "<AxesSubplot:xlabel='Airline'>"
      ]
     },
     "execution_count": 31,
     "metadata": {},
     "output_type": "execute_result"
    },
    {
     "data": {
      "image/png": "[encoded data removed]",
      "text/plain": [
       "<Figure size 720x360 with 1 Axes>"
      ]
     },
     "metadata": {},
     "output_type": "display_data"
    }
   ],
   "source": [
    "df.groupby('Airline')['Price'].mean().plot(figsize=(10,5))"
   ]
  },
  {
   "cell_type": "code",
   "execution_count": 32,
   "metadata": {},
   "outputs": [
    {
     "data": {
      "image/png": "[encoded data removed]",
      "text/plain": [
       "<Figure size 720x360 with 1 Axes>"
      ]
     },
     "metadata": {},
     "output_type": "display_data"
    }
   ],
   "source": [
    "plt.figure(figsize=(10,5))\n",
    "sns.barplot(x='Total_Stops',y='Price',data=df)\n",
    "plt.show()"
   ]
  },
  {
   "cell_type": "code",
   "execution_count": 33,
   "metadata": {},
   "outputs": [
    {
     "data": {
      "text/plain": [
       "array(['Banglore', 'Kolkata', 'Delhi', 'Chennai', 'Mumbai'], dtype=object)"
      ]
     },
     "execution_count": 33,
     "metadata": {},
     "output_type": "execute_result"
    }
   ],
   "source": [
    "df['Source'].unique()"
   ]
  },
  {
   "cell_type": "code",
   "execution_count": 34,
   "metadata": {},
   "outputs": [
    {
     "data": {
      "text/plain": [
       "array(['New Delhi', 'Banglore', 'Cochin', 'Kolkata', 'Delhi', 'Hyderabad'],\n",
       "      dtype=object)"
      ]
     },
     "execution_count": 34,
     "metadata": {},
     "output_type": "execute_result"
    }
   ],
   "source": [
    "df['Destination'].unique()"
   ]
  },
  {
   "cell_type": "code",
   "execution_count": 35,
   "metadata": {},
   "outputs": [],
   "source": [
    "from sklearn.preprocessing import LabelEncoder\n",
    "lb=LabelEncoder()\n",
    "df['Source']=lb.fit_transform(df['Source'])\n",
    "df['Destination']=lb.fit_transform(df['Source'])\n",
    "df['Airline']=lb.fit_transform(df['Airline'])"
   ]
  },
  {
   "cell_type": "code",
   "execution_count": 36,
   "metadata": {},
   "outputs": [
    {
     "data": {
      "text/plain": [
       "Airline                0\n",
       "Source                 0\n",
       "Destination            0\n",
       "Total_Stops            0\n",
       "Price                  0\n",
       "Journey_day            0\n",
       "Journey_month          0\n",
       "Dep_hour               0\n",
       "Dep_min                0\n",
       "Arrival_hour           0\n",
       "Arrival_min            0\n",
       "Duration_time(mins)    0\n",
       "dtype: int64"
      ]
     },
     "execution_count": 36,
     "metadata": {},
     "output_type": "execute_result"
    }
   ],
   "source": [
    "df.isnull().sum()"
   ]
  },
  {
   "cell_type": "markdown",
   "metadata": {},
   "source": [
    "# Find Correlation and show it using heat map"
   ]
  },
  {
   "cell_type": "code",
   "execution_count": 37,
   "metadata": {},
   "outputs": [
    {
     "data": {
      "text/plain": [
       "<AxesSubplot:>"
      ]
     },
     "execution_count": 37,
     "metadata": {},
     "output_type": "execute_result"
    },
    {
     "data": {
      "image/png": "[encoded data removed]",
      "text/plain": [
       "<Figure size 864x864 with 2 Axes>"
      ]
     },
     "metadata": {},
     "output_type": "display_data"
    }
   ],
   "source": [
    "plt.figure(figsize=(12,12))\n",
    "sns.heatmap(df.corr(),annot=True, linewidths=0.5,cmap=\"YlGnBu\")"
   ]
  },
  {
   "cell_type": "markdown",
   "metadata": {},
   "source": [
    "# Create target and features set  "
   ]
  },
  {
   "cell_type": "code",
   "execution_count": 38,
   "metadata": {},
   "outputs": [],
   "source": [
    "x = df.drop('Price',axis=1)\n",
    "y = df.Price"
   ]
  },
  {
   "cell_type": "code",
   "execution_count": 39,
   "metadata": {},
   "outputs": [
    {
     "data": {
      "text/html": [
       "<div>\n",
       "<style scoped>\n",
       "    .dataframe tbody tr th:only-of-type {\n",
       "        vertical-align: middle;\n",
       "    }\n",
       "\n",
       "    .dataframe tbody tr th {\n",
       "        vertical-align: top;\n",
       "    }\n",
       "\n",
       "    .dataframe thead th {\n",
       "        text-align: right;\n",
       "    }\n",
       "</style>\n",
       "<table border=\"1\" class=\"dataframe\">\n",
       "  <thead>\n",
       "    <tr style=\"text-align: right;\">\n",
       "      <th></th>\n",
       "      <th>Airline</th>\n",
       "      <th>Source</th>\n",
       "      <th>Destination</th>\n",
       "      <th>Total_Stops</th>\n",
       "      <th>Journey_day</th>\n",
       "      <th>Journey_month</th>\n",
       "      <th>Dep_hour</th>\n",
       "      <th>Dep_min</th>\n",
       "      <th>Arrival_hour</th>\n",
       "      <th>Arrival_min</th>\n",
       "      <th>Duration_time(mins)</th>\n",
       "    </tr>\n",
       "  </thead>\n",
       "  <tbody>\n",
       "    <tr>\n",
       "      <th>0</th>\n",
       "      <td>3</td>\n",
       "      <td>0</td>\n",
       "      <td>0</td>\n",
       "      <td>0</td>\n",
       "      <td>24</td>\n",
       "      <td>3</td>\n",
       "      <td>22</td>\n",
       "      <td>20</td>\n",
       "      <td>1</td>\n",
       "      <td>10</td>\n",
       "      <td>170</td>\n",
       "    </tr>\n",
       "    <tr>\n",
       "      <th>1</th>\n",
       "      <td>1</td>\n",
       "      <td>3</td>\n",
       "      <td>3</td>\n",
       "      <td>2</td>\n",
       "      <td>1</td>\n",
       "      <td>5</td>\n",
       "      <td>5</td>\n",
       "      <td>50</td>\n",
       "      <td>13</td>\n",
       "      <td>15</td>\n",
       "      <td>445</td>\n",
       "    </tr>\n",
       "    <tr>\n",
       "      <th>2</th>\n",
       "      <td>4</td>\n",
       "      <td>2</td>\n",
       "      <td>2</td>\n",
       "      <td>2</td>\n",
       "      <td>9</td>\n",
       "      <td>6</td>\n",
       "      <td>9</td>\n",
       "      <td>25</td>\n",
       "      <td>4</td>\n",
       "      <td>25</td>\n",
       "      <td>1140</td>\n",
       "    </tr>\n",
       "    <tr>\n",
       "      <th>3</th>\n",
       "      <td>3</td>\n",
       "      <td>3</td>\n",
       "      <td>3</td>\n",
       "      <td>1</td>\n",
       "      <td>12</td>\n",
       "      <td>5</td>\n",
       "      <td>18</td>\n",
       "      <td>5</td>\n",
       "      <td>23</td>\n",
       "      <td>30</td>\n",
       "      <td>325</td>\n",
       "    </tr>\n",
       "    <tr>\n",
       "      <th>4</th>\n",
       "      <td>3</td>\n",
       "      <td>0</td>\n",
       "      <td>0</td>\n",
       "      <td>1</td>\n",
       "      <td>1</td>\n",
       "      <td>3</td>\n",
       "      <td>16</td>\n",
       "      <td>50</td>\n",
       "      <td>21</td>\n",
       "      <td>35</td>\n",
       "      <td>285</td>\n",
       "    </tr>\n",
       "  </tbody>\n",
       "</table>\n",
       "</div>"
      ],
      "text/plain": [
       "   Airline  Source  Destination  Total_Stops  Journey_day  Journey_month  \\\n",
       "0        3       0            0            0           24              3   \n",
       "1        1       3            3            2            1              5   \n",
       "2        4       2            2            2            9              6   \n",
       "3        3       3            3            1           12              5   \n",
       "4        3       0            0            1            1              3   \n",
       "\n",
       "   Dep_hour  Dep_min  Arrival_hour  Arrival_min  Duration_time(mins)  \n",
       "0        22       20             1           10                  170  \n",
       "1         5       50            13           15                  445  \n",
       "2         9       25             4           25                 1140  \n",
       "3        18        5            23           30                  325  \n",
       "4        16       50            21           35                  285  "
      ]
     },
     "execution_count": 39,
     "metadata": {},
     "output_type": "execute_result"
    }
   ],
   "source": [
    "x.head()"
   ]
  },
  {
   "cell_type": "markdown",
   "metadata": {},
   "source": [
    "# Create training and testing data "
   ]
  },
  {
   "cell_type": "code",
   "execution_count": 45,
   "metadata": {},
   "outputs": [],
   "source": [
    "from sklearn.model_selection import train_test_split\n",
    "x_train, x_test, y_train, y_test = train_test_split(x, y, test_size = 0.2, random_state = 1)"
   ]
  },
  {
   "cell_type": "code",
   "execution_count": 46,
   "metadata": {},
   "outputs": [
    {
     "data": {
      "text/plain": [
       "((8545, 11), (2137, 11), (8545,), (2137,))"
      ]
     },
     "execution_count": 46,
     "metadata": {},
     "output_type": "execute_result"
    }
   ],
   "source": [
    "x_train.shape,x_test.shape,y_train.shape,y_test.shape"
   ]
  },
  {
   "cell_type": "code",
   "execution_count": 48,
   "metadata": {},
   "outputs": [],
   "source": [
    "from sklearn.linear_model import LinearRegression"
   ]
  },
  {
   "cell_type": "code",
   "execution_count": 49,
   "metadata": {},
   "outputs": [
    {
     "data": {
      "text/plain": [
       "LinearRegression()"
      ]
     },
     "execution_count": 49,
     "metadata": {},
     "output_type": "execute_result"
    }
   ],
   "source": [
    "model_li = LinearRegression()\n",
    "model_li.fit(x_train,y_train)"
   ]
  },
  {
   "cell_type": "markdown",
   "metadata": {},
   "source": [
    "# Print training and testing score"
   ]
  },
  {
   "cell_type": "code",
   "execution_count": 50,
   "metadata": {},
   "outputs": [
    {
     "data": {
      "text/plain": [
       "0.4318947977671084"
      ]
     },
     "execution_count": 50,
     "metadata": {},
     "output_type": "execute_result"
    }
   ],
   "source": [
    "model_li.score(x_train,y_train)"
   ]
  },
  {
   "cell_type": "code",
   "execution_count": 51,
   "metadata": {},
   "outputs": [
    {
     "data": {
      "text/plain": [
       "0.4401929732065921"
      ]
     },
     "execution_count": 51,
     "metadata": {},
     "output_type": "execute_result"
    }
   ],
   "source": [
    "model_li.score(x_test,y_test)"
   ]
  },
  {
   "cell_type": "code",
   "execution_count": 52,
   "metadata": {},
   "outputs": [
    {
     "data": {
      "text/plain": [
       "array([ 6511.09166264, 10578.77556751,  9269.65277359, ...,\n",
       "        8465.91783089,  9462.16065935,  4137.20694093])"
      ]
     },
     "execution_count": 52,
     "metadata": {},
     "output_type": "execute_result"
    }
   ],
   "source": [
    "y_pred=model_li.predict(x_test)\n",
    "y_pred"
   ]
  },
  {
   "cell_type": "code",
   "execution_count": 53,
   "metadata": {},
   "outputs": [],
   "source": [
    "from sklearn.linear_model import Ridge,Lasso\n",
    "from sklearn.tree import DecisionTreeRegressor\n",
    "from sklearn.neighbors import KNeighborsRegressor\n",
    "from sklearn.ensemble import RandomForestRegressor,GradientBoostingRegressor\n",
    "from xgboost import XGBRFRegressor\n",
    "from sklearn.svm import SVR"
   ]
  },
  {
   "cell_type": "code",
   "execution_count": 54,
   "metadata": {},
   "outputs": [
    {
     "name": "stdout",
     "output_type": "stream",
     "text": [
      "<class 'sklearn.linear_model._ridge.Ridge'> 0.44019362989824573\n",
      "<class 'sklearn.linear_model._coordinate_descent.Lasso'> 0.44019671361733226\n",
      "<class 'sklearn.tree._classes.DecisionTreeRegressor'> 0.6455975494038857\n",
      "<class 'sklearn.svm._classes.SVR'> 0.15746448664042956\n",
      "<class 'sklearn.ensemble._forest.RandomForestRegressor'> 0.8012003973734652\n",
      "<class 'sklearn.ensemble._gb.GradientBoostingRegressor'> 0.7468025868558649\n",
      "<class 'sklearn.neighbors._regression.KNeighborsRegressor'> 0.5785873024280384\n",
      "<class 'xgboost.sklearn.XGBRFRegressor'> 0.7290545101031068\n"
     ]
    }
   ],
   "source": [
    "models=[Ridge,Lasso,DecisionTreeRegressor,SVR,RandomForestRegressor,GradientBoostingRegressor,KNeighborsRegressor,XGBRFRegressor]\n",
    "\n",
    "for mod in models:\n",
    "    reg = mod()\n",
    "    reg = reg.fit(x_train,y_train)\n",
    "    print(mod,reg.score(x_test,y_test))"
   ]
  },
  {
   "cell_type": "markdown",
   "metadata": {},
   "source": [
    "# Choosing Random Forest because of its best acuracy"
   ]
  },
  {
   "cell_type": "code",
   "execution_count": 57,
   "metadata": {},
   "outputs": [
    {
     "data": {
      "text/plain": [
       "RandomForestRegressor()"
      ]
     },
     "execution_count": 57,
     "metadata": {},
     "output_type": "execute_result"
    }
   ],
   "source": [
    "rf=RandomForestRegressor()\n",
    "rf.fit(x_train,y_train)"
   ]
  },
  {
   "cell_type": "code",
   "execution_count": 61,
   "metadata": {},
   "outputs": [],
   "source": [
    "y_pred=rf.predict(x_test)"
   ]
  },
  {
   "cell_type": "code",
   "execution_count": 62,
   "metadata": {},
   "outputs": [
    {
     "data": {
      "text/plain": [
       "0.8022387953896317"
      ]
     },
     "execution_count": 62,
     "metadata": {},
     "output_type": "execute_result"
    }
   ],
   "source": [
    "rf.score(x_test,y_test)"
   ]
  },
  {
   "cell_type": "markdown",
   "metadata": {},
   "source": [
    "# Now apply Kfold and cross validation technique"
   ]
  },
  {
   "cell_type": "code",
   "execution_count": 63,
   "metadata": {},
   "outputs": [],
   "source": [
    "from sklearn.model_selection import KFold,cross_val_score"
   ]
  },
  {
   "cell_type": "code",
   "execution_count": 64,
   "metadata": {},
   "outputs": [],
   "source": [
    "kfold = KFold(n_splits=10)\n",
    "cv_result =cross_val_score(rf,x_train,y_train,cv=kfold)"
   ]
  },
  {
   "cell_type": "code",
   "execution_count": 65,
   "metadata": {},
   "outputs": [
    {
     "data": {
      "text/plain": [
       "array([0.81269394, 0.84103246, 0.75552867, 0.81814523, 0.78818864,\n",
       "       0.81268937, 0.82520638, 0.82111848, 0.7708661 , 0.76074427])"
      ]
     },
     "execution_count": 65,
     "metadata": {},
     "output_type": "execute_result"
    }
   ],
   "source": [
    "cv_result"
   ]
  },
  {
   "cell_type": "markdown",
   "metadata": {},
   "source": [
    "# Show scatter plot b/w y_test and y_pred"
   ]
  },
  {
   "cell_type": "code",
   "execution_count": 66,
   "metadata": {},
   "outputs": [
    {
     "data": {
      "image/png": "[encoded data removed]",
      "text/plain": [
       "<Figure size 432x288 with 1 Axes>"
      ]
     },
     "metadata": {},
     "output_type": "display_data"
    }
   ],
   "source": [
    "plt.scatter(y_test, y_pred, alpha = 0.5)\n",
    "plt.xlabel(\"y_test\")\n",
    "plt.ylabel(\"y_pred\")\n",
    "plt.show()"
   ]
  },
  {
   "cell_type": "markdown",
   "metadata": {},
   "source": [
    "# Model Evalution "
   ]
  },
  {
   "cell_type": "code",
   "execution_count": 67,
   "metadata": {},
   "outputs": [],
   "source": [
    "from sklearn.metrics import mean_absolute_error,mean_squared_error,r2_score"
   ]
  },
  {
   "cell_type": "code",
   "execution_count": 68,
   "metadata": {},
   "outputs": [
    {
     "data": {
      "text/plain": [
       "1215.6363891242124"
      ]
     },
     "execution_count": 68,
     "metadata": {},
     "output_type": "execute_result"
    }
   ],
   "source": [
    "mae=mean_absolute_error(y_test, y_pred)\n",
    "mae"
   ]
  },
  {
   "cell_type": "code",
   "execution_count": 69,
   "metadata": {},
   "outputs": [
    {
     "data": {
      "text/plain": [
       "4056218.842708875"
      ]
     },
     "execution_count": 69,
     "metadata": {},
     "output_type": "execute_result"
    }
   ],
   "source": [
    "mse=mean_squared_error(y_test, y_pred)\n",
    "mse"
   ]
  },
  {
   "cell_type": "code",
   "execution_count": 70,
   "metadata": {},
   "outputs": [
    {
     "data": {
      "text/plain": [
       "0.8022387953896317"
      ]
     },
     "execution_count": 70,
     "metadata": {},
     "output_type": "execute_result"
    }
   ],
   "source": [
    "r2_score(y_test, y_pred)"
   ]
  },
  {
   "cell_type": "code",
   "execution_count": 71,
   "metadata": {},
   "outputs": [
    {
     "data": {
      "text/plain": [
       "2014.0056709723722"
      ]
     },
     "execution_count": 71,
     "metadata": {},
     "output_type": "execute_result"
    }
   ],
   "source": [
    "import math\n",
    "root_mean_squared_error=math.sqrt(mse)\n",
    "root_mean_squared_error"
   ]
  }
 ],
 "metadata": {
  "kernelspec": {
   "display_name": "Python 3",
   "language": "python",
   "name": "python3"
  },
  "language_info": {
   "codemirror_mode": {
    "name": "ipython",
    "version": 3
   },
   "file_extension": ".py",
   "mimetype": "text/x-python",
   "name": "python",
   "nbconvert_exporter": "python",
   "pygments_lexer": "ipython3",
   "version": "3.8.8"
  }
 },
 "nbformat": 4,
 "nbformat_minor": 4
}
